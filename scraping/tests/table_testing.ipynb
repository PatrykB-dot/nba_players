{
 "cells": [
  {
   "cell_type": "code",
   "execution_count": 1,
   "metadata": {},
   "outputs": [],
   "source": [
    "from bs4 import BeautifulSoup\n",
    "import requests\n",
    "import pandas as pd"
   ]
  },
  {
   "cell_type": "code",
   "execution_count": 10,
   "metadata": {},
   "outputs": [
    {
     "name": "stdout",
     "output_type": "stream",
     "text": [
      "{'aria-label': 'Season', 'data-stat': 'season', 'scope': 'col', 'class': ['poptip', 'sort_default_asc', 'center'], 'data-tip': 'If listed as single number, the year the season ended.<br>★ - Indicates All-Star for league.<br>Only on regular season tables.'}\n",
      "{'aria-label': 'Age', 'data-stat': 'age', 'scope': 'col', 'class': ['poptip', 'sort_default_asc', 'center'], 'data-tip': \"Player's age on February 1 of the season\"}\n",
      "{'aria-label': 'Tm', 'data-stat': 'team_id', 'scope': 'col', 'class': ['poptip', 'sort_default_asc', 'center'], 'data-tip': 'Team'}\n",
      "{'aria-label': 'Lg', 'data-stat': 'lg_id', 'scope': 'col', 'class': ['poptip', 'sort_default_asc', 'center'], 'data-tip': 'League'}\n",
      "{'aria-label': 'Pos', 'data-stat': 'pos', 'scope': 'col', 'class': ['poptip', 'sort_default_asc', 'center'], 'data-tip': 'Position'}\n",
      "{'aria-label': 'Games', 'data-stat': 'g', 'scope': 'col', 'class': ['poptip', 'center'], 'data-tip': 'Games'}\n",
      "{'aria-label': 'Games Started', 'data-stat': 'gs', 'scope': 'col', 'class': ['poptip', 'center'], 'data-tip': 'Games Started'}\n",
      "{'aria-label': 'Minutes Played Per Game', 'data-stat': 'mp_per_g', 'scope': 'col', 'class': ['poptip', 'center'], 'data-tip': 'Minutes Played Per Game'}\n",
      "{'aria-label': 'Field Goals Per Game', 'data-stat': 'fg_per_g', 'scope': 'col', 'class': ['poptip', 'center'], 'data-tip': 'Field Goals Per Game'}\n",
      "{'aria-label': 'Field Goal Attempts Per Game', 'data-stat': 'fga_per_g', 'scope': 'col', 'class': ['poptip', 'center'], 'data-tip': 'Field Goal Attempts Per Game'}\n",
      "{'aria-label': 'Field Goal Percentage', 'data-stat': 'fg_pct', 'scope': 'col', 'class': ['poptip', 'center'], 'data-tip': 'Field Goal Percentage'}\n",
      "{'aria-label': '3-Point Field Goals Per Game', 'data-stat': 'fg3_per_g', 'scope': 'col', 'class': ['poptip', 'center'], 'data-tip': '3-Point Field Goals Per Game'}\n",
      "{'aria-label': '3-Point Field Goal Attempts Per Game', 'data-stat': 'fg3a_per_g', 'scope': 'col', 'class': ['poptip', 'center'], 'data-tip': '3-Point Field Goal Attempts Per Game'}\n",
      "{'aria-label': '3-Point Field Goal Percentage', 'data-stat': 'fg3_pct', 'scope': 'col', 'class': ['poptip', 'center'], 'data-tip': '3-Point Field Goal Percentage'}\n",
      "{'aria-label': '2-Point Field Goals Per Game', 'data-stat': 'fg2_per_g', 'scope': 'col', 'class': ['poptip', 'center'], 'data-tip': '2-Point Field Goals Per Game'}\n",
      "{'aria-label': '2-Point Field Goal Attempts Per Game', 'data-stat': 'fg2a_per_g', 'scope': 'col', 'class': ['poptip', 'center'], 'data-tip': '2-Point Field Goal Attempts Per Game'}\n",
      "{'aria-label': '2-Point Field Goal Percentage', 'data-stat': 'fg2_pct', 'scope': 'col', 'class': ['poptip', 'center'], 'data-tip': '2-Point Field Goal Percentage'}\n",
      "{'aria-label': 'Effective Field Goal Percentage', 'data-stat': 'efg_pct', 'scope': 'col', 'class': ['poptip', 'center'], 'data-tip': '<strong>Effective Field Goal Percentage</strong><br>This statistic adjusts for the fact that a 3-point field goal is worth one more point than a 2-point field goal.'}\n",
      "{'aria-label': 'Free Throws Per Game', 'data-stat': 'ft_per_g', 'scope': 'col', 'class': ['poptip', 'center'], 'data-tip': 'Free Throws Per Game'}\n",
      "{'aria-label': 'Free Throw Attempts Per Game', 'data-stat': 'fta_per_g', 'scope': 'col', 'class': ['poptip', 'center'], 'data-tip': 'Free Throw Attempts Per Game'}\n",
      "{'aria-label': 'Free Throw Percentage', 'data-stat': 'ft_pct', 'scope': 'col', 'class': ['poptip', 'center'], 'data-tip': 'Free Throw Percentage'}\n",
      "{'aria-label': 'Offensive Rebounds Per Game', 'data-stat': 'orb_per_g', 'scope': 'col', 'class': ['poptip', 'center'], 'data-tip': 'Offensive Rebounds Per Game'}\n",
      "{'aria-label': 'Defensive Rebounds Per Game', 'data-stat': 'drb_per_g', 'scope': 'col', 'class': ['poptip', 'center'], 'data-tip': 'Defensive Rebounds Per Game'}\n",
      "{'aria-label': 'Total Rebounds Per Game', 'data-stat': 'trb_per_g', 'scope': 'col', 'class': ['poptip', 'center'], 'data-tip': 'Total Rebounds Per Game'}\n",
      "{'aria-label': 'Assists Per Game', 'data-stat': 'ast_per_g', 'scope': 'col', 'class': ['poptip', 'center'], 'data-tip': 'Assists Per Game'}\n",
      "{'aria-label': 'Steals Per Game', 'data-stat': 'stl_per_g', 'scope': 'col', 'class': ['poptip', 'center'], 'data-tip': 'Steals Per Game'}\n",
      "{'aria-label': 'Blocks Per Game', 'data-stat': 'blk_per_g', 'scope': 'col', 'class': ['poptip', 'center'], 'data-tip': 'Blocks Per Game'}\n",
      "{'aria-label': 'Turnovers Per Game', 'data-stat': 'tov_per_g', 'scope': 'col', 'class': ['poptip', 'center'], 'data-tip': 'Turnovers Per Game'}\n",
      "{'aria-label': 'Personal Fouls Per Game', 'data-stat': 'pf_per_g', 'scope': 'col', 'class': ['poptip', 'center'], 'data-tip': 'Personal Fouls Per Game'}\n",
      "{'aria-label': 'Points Per Game', 'data-stat': 'pts_per_g', 'scope': 'col', 'class': ['poptip', 'center'], 'data-tip': 'Points Per Game'}\n"
     ]
    }
   ],
   "source": [
    "url = 'https://www.basketball-reference.com/players/j/jamesle01.html'\n",
    "page = requests.get(url)\n",
    "soup = BeautifulSoup(page.text, 'html.parser')\n",
    "rows = []\n",
    "table = soup.find('table', {'id':'per_game'}).find_all('th', {'scope':'col'})\n",
    "for child in table:\n",
    "    print(child.attrs['data-tip'])\n"
   ]
  }
 ],
 "metadata": {
  "kernelspec": {
   "display_name": "Python 3.10.2 ('venv': venv)",
   "language": "python",
   "name": "python3"
  },
  "language_info": {
   "codemirror_mode": {
    "name": "ipython",
    "version": 3
   },
   "file_extension": ".py",
   "mimetype": "text/x-python",
   "name": "python",
   "nbconvert_exporter": "python",
   "pygments_lexer": "ipython3",
   "version": "3.10.2"
  },
  "orig_nbformat": 4,
  "vscode": {
   "interpreter": {
    "hash": "35ceecc041325461a340bd51bc2e9fb6910c6a7636b8a8b0eb8d7b6850492715"
   }
  }
 },
 "nbformat": 4,
 "nbformat_minor": 2
}
