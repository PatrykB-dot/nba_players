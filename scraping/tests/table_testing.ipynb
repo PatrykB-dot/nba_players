{
 "cells": [
  {
   "cell_type": "code",
   "execution_count": 1,
   "metadata": {},
   "outputs": [],
   "source": [
    "from bs4 import BeautifulSoup\n",
    "import requests\n",
    "import pandas as pd"
   ]
  },
  {
   "cell_type": "code",
   "execution_count": 3,
   "metadata": {},
   "outputs": [
    {
     "name": "stdout",
     "output_type": "stream",
     "text": [
      "{'Season': 'If listed as single number, the year the season ended.★ - Indicates All-Star for league.Only on regular season tables.', 'Age': \"Player's age on February 1 of the season\", 'Tm': 'Team', 'Lg': 'League', 'Pos': 'Position', 'G': 'Games', 'GS': 'Games Started', 'MP': 'Minutes Played Per Game', 'FG': 'Field Goals Per Game', 'FGA': 'Field Goal Attempts Per Game', 'FG%': 'Field Goal Percentage', '3P': '3-Point Field Goals Per Game', '3PA': '3-Point Field Goal Attempts Per Game', '3P%': '3-Point Field Goal Percentage', '2P': '2-Point Field Goals Per Game', '2PA': '2-Point Field Goal Attempts Per Game', '2P%': '2-Point Field Goal Percentage', 'eFG%': 'Effective Field Goal PercentageThis statistic adjusts for the fact that a 3-point field goal is worth one more point than a 2-point field goal.', 'FT': 'Free Throws Per Game', 'FTA': 'Free Throw Attempts Per Game', 'FT%': 'Free Throw Percentage', 'ORB': 'Offensive Rebounds Per Game', 'DRB': 'Defensive Rebounds Per Game', 'TRB': 'Total Rebounds Per Game', 'AST': 'Assists Per Game', 'STL': 'Steals Per Game', 'BLK': 'Blocks Per Game', 'TOV': 'Turnovers Per Game', 'PF': 'Personal Fouls Per Game', 'PTS': 'Points Per Game'}\n"
     ]
    }
   ],
   "source": [
    "url = 'https://www.basketball-reference.com/players/j/jamesle01.html'\n",
    "page = requests.get(url)\n",
    "soup = BeautifulSoup(page.text, 'html.parser')\n",
    "columns_dict = {}\n",
    "table = soup.find('table', {'id':'per_game'}).find_all('th', {'scope':'col'})\n",
    "for child in table:\n",
    "    formated_data_trip = child.attrs['data-tip'].replace('<br>','').replace('<strong>','').replace('</strong>','')\n",
    "    columns_dict[child.text] = formated_data_trip\n",
    "print(columns_dict)\n"
   ]
  }
 ],
 "metadata": {
  "kernelspec": {
   "display_name": "Python 3.10.2 ('venv': venv)",
   "language": "python",
   "name": "python3"
  },
  "language_info": {
   "codemirror_mode": {
    "name": "ipython",
    "version": 3
   },
   "file_extension": ".py",
   "mimetype": "text/x-python",
   "name": "python",
   "nbconvert_exporter": "python",
   "pygments_lexer": "ipython3",
   "version": "3.10.2"
  },
  "orig_nbformat": 4,
  "vscode": {
   "interpreter": {
    "hash": "35ceecc041325461a340bd51bc2e9fb6910c6a7636b8a8b0eb8d7b6850492715"
   }
  }
 },
 "nbformat": 4,
 "nbformat_minor": 2
}
