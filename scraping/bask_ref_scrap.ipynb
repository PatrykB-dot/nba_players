{
 "cells": [
  {
   "cell_type": "markdown",
   "metadata": {},
   "source": [
    "I will use www.basketball-reference.com website to scrap stats about nba players, which I downloaded from wiki_scrap"
   ]
  },
  {
   "cell_type": "code",
   "execution_count": 13,
   "metadata": {},
   "outputs": [],
   "source": [
    "from selenium import webdriver\n",
    "from selenium.webdriver.common.by import By\n",
    "from selenium.webdriver.support.ui import WebDriverWait\n",
    "from selenium.webdriver.support import expected_conditions as EC\n",
    "from selenium.webdriver.common.keys import Keys\n",
    "import pandas as pd"
   ]
  },
  {
   "cell_type": "code",
   "execution_count": 17,
   "metadata": {},
   "outputs": [
    {
     "name": "stderr",
     "output_type": "stream",
     "text": [
      "C:\\Users\\Patryk\\AppData\\Local\\Temp\\ipykernel_7408\\2189161906.py:1: DeprecationWarning: executable_path has been deprecated, please pass in a Service object\n",
      "  driver = webdriver.Chrome('C:\\webdrivers\\chromedriver.exe')\n"
     ]
    }
   ],
   "source": [
    "driver = webdriver.Chrome('C:\\webdrivers\\chromedriver.exe')\n",
    "driver.get('https://basketball-reference.com')\n",
    "\n",
    "try:\n",
    "    #Accept cookies policy\n",
    "    agree_policy_button = WebDriverWait(driver, 5).until(\n",
    "        EC.visibility_of_element_located((By.XPATH, '//*[@id=\"qc-cmp2-ui\"]/div[2]/div/button[3]/span'))\n",
    "    )\n",
    "finally:\n",
    "    #Insert text into search_input\n",
    "    agree_policy_button.click()\n",
    "try:\n",
    "    #Find main search input\n",
    "    search_input = WebDriverWait(driver, 5).until(\n",
    "        EC.visibility_of_element_located((By.XPATH, '//*[@id=\"header\"]/div[3]/form/div/div/input[2]'))\n",
    "    )\n",
    "finally:\n",
    "    #Insert text into search_input\n",
    "    search_input.send_keys(\"Lebron James\")\n",
    "    try:\n",
    "        #Find main search input\n",
    "        result_element = WebDriverWait(driver, 5).until(\n",
    "            EC.visibility_of_element_located((By.XPATH, '//*[@id=\"header\"]/div[3]/form/div/div/div/div[1]/div[2]/div/div/span[2]'))\n",
    "    )\n",
    "    finally:\n",
    "        #Insert text into search_input\n",
    "        result_element.click()\n",
    "    \n"
   ]
  }
 ],
 "metadata": {
  "kernelspec": {
   "display_name": "Python 3.10.2 ('venv': venv)",
   "language": "python",
   "name": "python3"
  },
  "language_info": {
   "codemirror_mode": {
    "name": "ipython",
    "version": 3
   },
   "file_extension": ".py",
   "mimetype": "text/x-python",
   "name": "python",
   "nbconvert_exporter": "python",
   "pygments_lexer": "ipython3",
   "version": "3.10.2"
  },
  "orig_nbformat": 4,
  "vscode": {
   "interpreter": {
    "hash": "35ceecc041325461a340bd51bc2e9fb6910c6a7636b8a8b0eb8d7b6850492715"
   }
  }
 },
 "nbformat": 4,
 "nbformat_minor": 2
}
