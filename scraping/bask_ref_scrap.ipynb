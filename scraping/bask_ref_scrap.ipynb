{
 "cells": [
  {
   "cell_type": "markdown",
   "metadata": {},
   "source": [
    "I will use www.basketball-reference.com website to scrap stats about nba players, which I downloaded from wiki_scrap"
   ]
  },
  {
   "cell_type": "code",
   "execution_count": 9,
   "metadata": {},
   "outputs": [],
   "source": [
    "from selenium import webdriver\n",
    "from selenium.webdriver.common.by import By\n",
    "from selenium.webdriver.support.ui import WebDriverWait\n",
    "from selenium.webdriver.support import expected_conditions as EC\n",
    "from selenium.webdriver.common.keys import Keys\n",
    "import pandas as pd\n",
    "from bs4 import BeautifulSoup"
   ]
  },
  {
   "cell_type": "code",
   "execution_count": 11,
   "metadata": {},
   "outputs": [
    {
     "name": "stderr",
     "output_type": "stream",
     "text": [
      "C:\\Users\\Patryk\\AppData\\Local\\Temp\\ipykernel_12504\\710450452.py:1: DeprecationWarning: executable_path has been deprecated, please pass in a Service object\n",
      "  driver = webdriver.Chrome('C:\\webdrivers\\chromedriver.exe')\n"
     ]
    },
    {
     "ename": "AttributeError",
     "evalue": "'str' object has no attribute 'find_all'",
     "output_type": "error",
     "traceback": [
      "\u001b[1;31m---------------------------------------------------------------------------\u001b[0m",
      "\u001b[1;31mAttributeError\u001b[0m                            Traceback (most recent call last)",
      "\u001b[1;32mc:\\Users\\Patryk\\python\\nba_players\\scraping\\bask_ref_scrap.ipynb Komórka 3\u001b[0m in \u001b[0;36m<cell line: 28>\u001b[1;34m()\u001b[0m\n\u001b[0;32m     <a href='vscode-notebook-cell:/c%3A/Users/Patryk/python/nba_players/scraping/bask_ref_scrap.ipynb#ch0000002?line=29'>30</a>\u001b[0m     per_game_table \u001b[39m=\u001b[39m WebDriverWait(driver, \u001b[39m5\u001b[39m)\u001b[39m.\u001b[39muntil(EC\u001b[39m.\u001b[39mpresence_of_element_located((By\u001b[39m.\u001b[39mID, \u001b[39m'\u001b[39m\u001b[39mper_game\u001b[39m\u001b[39m'\u001b[39m))\n\u001b[0;32m     <a href='vscode-notebook-cell:/c%3A/Users/Patryk/python/nba_players/scraping/bask_ref_scrap.ipynb#ch0000002?line=30'>31</a>\u001b[0m     )\n\u001b[0;32m     <a href='vscode-notebook-cell:/c%3A/Users/Patryk/python/nba_players/scraping/bask_ref_scrap.ipynb#ch0000002?line=31'>32</a>\u001b[0m \u001b[39mfinally\u001b[39;00m:\n\u001b[1;32m---> <a href='vscode-notebook-cell:/c%3A/Users/Patryk/python/nba_players/scraping/bask_ref_scrap.ipynb#ch0000002?line=32'>33</a>\u001b[0m     table \u001b[39m=\u001b[39m BeautifulSoup\u001b[39m.\u001b[39;49mfind(\u001b[39m'\u001b[39;49m\u001b[39mtable\u001b[39;49m\u001b[39m'\u001b[39;49m, { \u001b[39m'\u001b[39;49m\u001b[39mid\u001b[39;49m\u001b[39m'\u001b[39;49m: \u001b[39m'\u001b[39;49m\u001b[39mper_game\u001b[39;49m\u001b[39m'\u001b[39;49m})\n\u001b[0;32m     <a href='vscode-notebook-cell:/c%3A/Users/Patryk/python/nba_players/scraping/bask_ref_scrap.ipynb#ch0000002?line=33'>34</a>\u001b[0m     \u001b[39mprint\u001b[39m(table)\n\u001b[0;32m     <a href='vscode-notebook-cell:/c%3A/Users/Patryk/python/nba_players/scraping/bask_ref_scrap.ipynb#ch0000002?line=34'>35</a>\u001b[0m     \u001b[39m#for child in BeautifulSoup.find('table', { 'id': 'per_game'}).children:\u001b[39;00m\n\u001b[0;32m     <a href='vscode-notebook-cell:/c%3A/Users/Patryk/python/nba_players/scraping/bask_ref_scrap.ipynb#ch0000002?line=35'>36</a>\u001b[0m     \u001b[39m#    for td in child:\u001b[39;00m\n\u001b[0;32m     <a href='vscode-notebook-cell:/c%3A/Users/Patryk/python/nba_players/scraping/bask_ref_scrap.ipynb#ch0000002?line=36'>37</a>\u001b[0m     \u001b[39m#        print(td.text) \u001b[39;00m\n",
      "File \u001b[1;32mc:\\Users\\Patryk\\python\\nba_players\\venv\\lib\\site-packages\\bs4\\element.py:1865\u001b[0m, in \u001b[0;36mTag.find\u001b[1;34m(self, name, attrs, recursive, string, **kwargs)\u001b[0m\n\u001b[0;32m   1848\u001b[0m \u001b[39m\"\"\"Look in the children of this PageElement and find the first\u001b[39;00m\n\u001b[0;32m   1849\u001b[0m \u001b[39mPageElement that matches the given criteria.\u001b[39;00m\n\u001b[0;32m   1850\u001b[0m \n\u001b[1;32m   (...)\u001b[0m\n\u001b[0;32m   1862\u001b[0m \u001b[39m:rtype: bs4.element.Tag | bs4.element.NavigableString\u001b[39;00m\n\u001b[0;32m   1863\u001b[0m \u001b[39m\"\"\"\u001b[39;00m\n\u001b[0;32m   1864\u001b[0m r \u001b[39m=\u001b[39m \u001b[39mNone\u001b[39;00m\n\u001b[1;32m-> 1865\u001b[0m l \u001b[39m=\u001b[39m \u001b[39mself\u001b[39;49m\u001b[39m.\u001b[39;49mfind_all(name, attrs, recursive, string, \u001b[39m1\u001b[39m, \u001b[39m*\u001b[39m\u001b[39m*\u001b[39mkwargs)\n\u001b[0;32m   1866\u001b[0m \u001b[39mif\u001b[39;00m l:\n\u001b[0;32m   1867\u001b[0m     r \u001b[39m=\u001b[39m l[\u001b[39m0\u001b[39m]\n",
      "\u001b[1;31mAttributeError\u001b[0m: 'str' object has no attribute 'find_all'"
     ]
    }
   ],
   "source": [
    "driver = webdriver.Chrome('C:\\webdrivers\\chromedriver.exe')\n",
    "driver.get('https://basketball-reference.com')\n",
    "\n",
    "try:\n",
    "    #Accept cookies policy\n",
    "    agree_policy_button = WebDriverWait(driver, 5).until(\n",
    "        EC.visibility_of_element_located((By.XPATH, '//*[@id=\"qc-cmp2-ui\"]/div[2]/div/button[3]/span'))\n",
    "    )\n",
    "finally:\n",
    "    #Insert text into search_input\n",
    "    agree_policy_button.click()\n",
    "try:\n",
    "    #Find main search input\n",
    "    search_input = WebDriverWait(driver, 5).until(\n",
    "        EC.visibility_of_element_located((By.XPATH, '//*[@id=\"header\"]/div[3]/form/div/div/input[2]'))\n",
    "    )\n",
    "finally:\n",
    "    #Insert text into search_input\n",
    "    search_input.send_keys(\"Lebron James\")\n",
    "    try:\n",
    "        #Find result from input\n",
    "        result_element = WebDriverWait(driver, 5).until(\n",
    "            EC.visibility_of_element_located((By.XPATH, '//*[@id=\"header\"]/div[3]/form/div/div/div/div[1]/div[2]/div/div/span[2]'))\n",
    "    )\n",
    "    finally:\n",
    "        #Click resul\n",
    "        result_element.click()\n",
    "try:\n",
    "    #Find table that represent player per game stats\n",
    "    per_game_table = WebDriverWait(driver, 5).until(EC.presence_of_element_located((By.ID, 'per_game'))\n",
    "    )\n",
    "finally:\n",
    "    table = BeautifulSoup.find('table', attrs={'id':'per_game'})\n",
    "    print(table)\n",
    "    #for child in BeautifulSoup.find('table', { 'id': 'per_game'}).children:\n",
    "    #    for td in child:\n",
    "    #        print(td.text) \n",
    "    driver.quit()\n"
   ]
  }
 ],
 "metadata": {
  "kernelspec": {
   "display_name": "Python 3.10.2 ('venv': venv)",
   "language": "python",
   "name": "python3"
  },
  "language_info": {
   "codemirror_mode": {
    "name": "ipython",
    "version": 3
   },
   "file_extension": ".py",
   "mimetype": "text/x-python",
   "name": "python",
   "nbconvert_exporter": "python",
   "pygments_lexer": "ipython3",
   "version": "3.10.2"
  },
  "orig_nbformat": 4,
  "vscode": {
   "interpreter": {
    "hash": "35ceecc041325461a340bd51bc2e9fb6910c6a7636b8a8b0eb8d7b6850492715"
   }
  }
 },
 "nbformat": 4,
 "nbformat_minor": 2
}
