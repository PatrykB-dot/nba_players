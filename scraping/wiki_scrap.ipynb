{
 "cells": [
  {
   "cell_type": "code",
   "execution_count": 13,
   "metadata": {},
   "outputs": [],
   "source": [
    "from selenium import webdriver\n",
    "from selenium.webdriver.common.by import By\n",
    "import json"
   ]
  },
  {
   "cell_type": "markdown",
   "metadata": {},
   "source": [
    "Scraping from Wikipedia - list of current active NBA All Star players"
   ]
  },
  {
   "cell_type": "code",
   "execution_count": 24,
   "metadata": {},
   "outputs": [
    {
     "name": "stderr",
     "output_type": "stream",
     "text": [
      "C:\\Users\\admin\\AppData\\Local\\Temp\\ipykernel_23768\\369361925.py:1: DeprecationWarning: executable_path has been deprecated, please pass in a Service object\n",
      "  driver = webdriver.Chrome('C:\\webdrivers\\chromedriver.exe')\n"
     ]
    }
   ],
   "source": [
    "driver = webdriver.Chrome('C:\\webdrivers\\chromedriver.exe')\n",
    "driver.get('https://en.wikipedia.org/wiki/List_of_NBA_All-Stars')\n",
    "\n",
    "#Active players are inside td element with specific color\n",
    "td_elements = driver.find_elements(By.CSS_SELECTOR, 'td[bgcolor=\"#CFECEC\"]')\n",
    "\n",
    "# Get element text and remove unecessary symbol , save to json string\n",
    "active_nba_players = json.dumps([el.text.replace('^','') for el in td_elements],ensure_ascii=False)\n",
    "driver.quit()\n",
    "\n",
    "#Export json string to file\n",
    "with open(\"data\\\\json_files\\\\active_nba_players.json\", \"w\",encoding='utf-8') as outfile:\n",
    "    outfile.write(active_nba_players)\n"
   ]
  }
 ],
 "metadata": {
  "interpreter": {
   "hash": "6cd2299fba999aae05bfcc5c13ea805f012e155113a98694a5ac4afa8816c5fc"
  },
  "kernelspec": {
   "display_name": "Python 3.10.5 ('venv': venv)",
   "language": "python",
   "name": "python3"
  },
  "language_info": {
   "codemirror_mode": {
    "name": "ipython",
    "version": 3
   },
   "file_extension": ".py",
   "mimetype": "text/x-python",
   "name": "python",
   "nbconvert_exporter": "python",
   "pygments_lexer": "ipython3",
   "version": "3.10.5"
  },
  "orig_nbformat": 4
 },
 "nbformat": 4,
 "nbformat_minor": 2
}
